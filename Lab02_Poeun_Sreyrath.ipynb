{
 "cells": [
  {
   "attachments": {},
   "cell_type": "markdown",
   "metadata": {},
   "source": [
    "# Lab02\n",
    "Sreyrath Poeun\n",
    "02/17/2023"
   ]
  },
  {
   "cell_type": "code",
   "execution_count": null,
   "metadata": {},
   "outputs": [],
   "source": [
    "#set up\n",
    "import numpy as np\n",
    "import pandas as pd\n",
    "import datetime as datetime"
   ]
  },
  {
   "attachments": {},
   "cell_type": "markdown",
   "metadata": {},
   "source": [
    "Part 3: Get Data"
   ]
  },
  {
   "cell_type": "code",
   "execution_count": null,
   "metadata": {},
   "outputs": [],
   "source": [
    "#import data and make 1st col into an index\n",
    "kc=pd.read_csv(\"https://raw.githubusercontent.com/aaiken1/fin-data-analysis-python/main/data/kc_house_data.csv\"\n",
    "                ,index_col=0, parse_dates=True)\n",
    "kc.index"
   ]
  },
  {
   "attachments": {},
   "cell_type": "markdown",
   "metadata": {},
   "source": [
    "Part 4"
   ]
  },
  {
   "cell_type": "code",
   "execution_count": null,
   "metadata": {},
   "outputs": [],
   "source": [
    "#get rid of extra variables in \"date\"\n",
    "kc['date'] = kc['date'].str.replace('T000000','')\n",
    "kc.head()"
   ]
  },
  {
   "attachments": {},
   "cell_type": "markdown",
   "metadata": {},
   "source": [
    "Part 5"
   ]
  },
  {
   "cell_type": "code",
   "execution_count": null,
   "metadata": {},
   "outputs": [],
   "source": [
    "#change \"date\" to date format\n",
    "kc['date'] = pd.to_datetime(kc['date'], format='%Y-%m-%d')\n",
    "kc.head()"
   ]
  },
  {
   "cell_type": "code",
   "execution_count": null,
   "metadata": {},
   "outputs": [],
   "source": [
    "#Create \"year\"  and \"month\" variables\n",
    "kc['year'] = pd.DatetimeIndex(kc['date']).year\n",
    "kc['month'] = pd.DatetimeIndex(kc['date']).month\n",
    "kc.head()"
   ]
  },
  {
   "attachments": {},
   "cell_type": "markdown",
   "metadata": {},
   "source": [
    "Part 6"
   ]
  },
  {
   "cell_type": "code",
   "execution_count": null,
   "metadata": {},
   "outputs": [],
   "source": [
    "#Use \"shape\" to give the number of rows and columns in the DataFrame.\n",
    "kc.shape\n",
    "\n",
    "#() function or method"
   ]
  },
  {
   "cell_type": "code",
   "execution_count": null,
   "metadata": {},
   "outputs": [],
   "source": [
    "#Use \"columns\" to show our variables.\n",
    "kc.columns"
   ]
  },
  {
   "cell_type": "code",
   "execution_count": null,
   "metadata": {},
   "outputs": [],
   "source": [
    "#Use describe() to get summary statistics for all of the columns\n",
    "kc.describe()"
   ]
  },
  {
   "cell_type": "code",
   "execution_count": null,
   "metadata": {},
   "outputs": [],
   "source": [
    "#Use describe() to get summary statistics for just price, bedrooms, bathrooms, and sqft_living.\n",
    "kc[['price','bedrooms','bathrooms','sqft_living']].describe()"
   ]
  },
  {
   "cell_type": "code",
   "execution_count": null,
   "metadata": {},
   "outputs": [],
   "source": [
    "#Add the code below and re-run your last describe()\n",
    "pd.options.display.float_format = '{:,.2f}'.format"
   ]
  },
  {
   "cell_type": "code",
   "execution_count": null,
   "metadata": {},
   "outputs": [],
   "source": [
    "#Rerun the code above\n",
    "kc[['price','bedrooms','bathrooms','sqft_living']].describe()"
   ]
  },
  {
   "cell_type": "code",
   "execution_count": null,
   "metadata": {},
   "outputs": [],
   "source": [
    "#Check missing vals\n",
    "kc.isna().sum()"
   ]
  },
  {
   "cell_type": "code",
   "execution_count": null,
   "metadata": {},
   "outputs": [],
   "source": [
    "#good view or not \n",
    "kc.view"
   ]
  },
  {
   "cell_type": "code",
   "execution_count": null,
   "metadata": {},
   "outputs": [],
   "source": [
    "#rating on the condition of the home\n",
    "kc.condition"
   ]
  },
  {
   "cell_type": "code",
   "execution_count": null,
   "metadata": {},
   "outputs": [],
   "source": [
    "#steepness of the lot\n",
    "kc.grade"
   ]
  },
  {
   "cell_type": "code",
   "execution_count": null,
   "metadata": {},
   "outputs": [],
   "source": [
    "#Check for unique Val\n",
    "kc[['view','condition','grade']].nunique()"
   ]
  },
  {
   "cell_type": "code",
   "execution_count": null,
   "metadata": {},
   "outputs": [],
   "source": [
    "kc.columns"
   ]
  },
  {
   "attachments": {},
   "cell_type": "markdown",
   "metadata": {},
   "source": [
    "Part 7"
   ]
  },
  {
   "cell_type": "code",
   "execution_count": null,
   "metadata": {},
   "outputs": [],
   "source": [
    "#Use min() and max() to print the min and max date in the data set\n",
    "kc['date'].agg([min, max])"
   ]
  },
  {
   "cell_type": "code",
   "execution_count": null,
   "metadata": {},
   "outputs": [],
   "source": [
    "#create new datetime\n",
    "kc['ym'] = kc['date'].dt.strftime('%Y-%m')\n",
    "kc.head()"
   ]
  },
  {
   "cell_type": "code",
   "execution_count": null,
   "metadata": {},
   "outputs": [],
   "source": [
    "#create groupby object\n",
    "ym_group=kc.groupby('ym')\n",
    "ym_group"
   ]
  },
  {
   "cell_type": "code",
   "execution_count": null,
   "metadata": {},
   "outputs": [],
   "source": [
    "#cannot apply count to a group object \n",
    "ym_group.size()"
   ]
  },
  {
   "cell_type": "code",
   "execution_count": null,
   "metadata": {},
   "outputs": [],
   "source": [
    "#find mean price per group\n",
    "ym_group['price'].mean()"
   ]
  },
  {
   "cell_type": "code",
   "execution_count": null,
   "metadata": {},
   "outputs": [],
   "source": [
    "#Use groupby() to find the mean of price by ym\n",
    "kc.groupby('ym')['price'].mean()"
   ]
  },
  {
   "cell_type": "code",
   "execution_count": null,
   "metadata": {},
   "outputs": [],
   "source": [
    "#Use groupby() and agg() to find the mean, median, and standard deviation of price by ym.\n",
    "kc.groupby('ym')['price'].agg([np.mean,np.median,np.std])\n",
    "\n",
    "#mean, median, std are in np, so much use np in front"
   ]
  },
  {
   "cell_type": "code",
   "execution_count": null,
   "metadata": {},
   "outputs": [],
   "source": [
    "pd.options.display.float_format = '${:,.0f}'.format"
   ]
  },
  {
   "cell_type": "code",
   "execution_count": null,
   "metadata": {},
   "outputs": [],
   "source": [
    "kc.groupby('ym')['price'].agg([np.mean,np.median,np.std])"
   ]
  },
  {
   "attachments": {},
   "cell_type": "markdown",
   "metadata": {},
   "source": [
    "Part 8"
   ]
  },
  {
   "cell_type": "code",
   "execution_count": null,
   "metadata": {},
   "outputs": [],
   "source": [
    "pd.options.display.float_format = '{:.2f}'.format"
   ]
  },
  {
   "cell_type": "code",
   "execution_count": null,
   "metadata": {},
   "outputs": [],
   "source": [
    "#all rows, 3 specific col\n",
    "kc.loc[:,['date','price','sqft_living']]"
   ]
  },
  {
   "cell_type": "code",
   "execution_count": null,
   "metadata": {},
   "outputs": [],
   "source": [
    "#id is an index so we can just use the number\n",
    "#id=5631500400, all col\n",
    "kc.loc[5631500400,:]"
   ]
  },
  {
   "cell_type": "code",
   "execution_count": null,
   "metadata": {},
   "outputs": [],
   "source": [
    "#select the 10th through 25th id values and the 2nd through 5th\n",
    "kc.iloc[10:26,2:6]"
   ]
  },
  {
   "cell_type": "code",
   "execution_count": null,
   "metadata": {},
   "outputs": [],
   "source": [
    "#find all of the home sales where ym is ‘2014-12'\n",
    "kc[kc.ym=='2014-12']\n",
    "\n",
    "#filter doesn't need \"loc\" or 'iloc'. Want rows where condition is met"
   ]
  },
  {
   "cell_type": "code",
   "execution_count": null,
   "metadata": {},
   "outputs": [],
   "source": [
    "#first week of December 2014\n",
    "kc[(kc.date>='2014-12-01') & (kc.date<='2014-12-07')]\n",
    "\n",
    "#Python does not like \"and\". It only accepts \"&\""
   ]
  },
  {
   "cell_type": "code",
   "execution_count": null,
   "metadata": {},
   "outputs": [],
   "source": []
  }
 ],
 "metadata": {
  "kernelspec": {
   "display_name": "Python 3",
   "language": "python",
   "name": "python3"
  },
  "language_info": {
   "codemirror_mode": {
    "name": "ipython",
    "version": 3
   },
   "file_extension": ".py",
   "mimetype": "text/x-python",
   "name": "python",
   "nbconvert_exporter": "python",
   "pygments_lexer": "ipython3",
   "version": "3.9.7"
  },
  "orig_nbformat": 4,
  "vscode": {
   "interpreter": {
    "hash": "f12a8e03ec00c368f348b05ea452528c1d8063d5c7985acc158bd197fd1c7bb1"
   }
  }
 },
 "nbformat": 4,
 "nbformat_minor": 2
}
