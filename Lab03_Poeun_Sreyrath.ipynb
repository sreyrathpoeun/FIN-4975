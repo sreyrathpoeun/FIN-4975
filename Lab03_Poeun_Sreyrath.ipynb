{
 "cells": [
  {
   "attachments": {},
   "cell_type": "markdown",
   "metadata": {},
   "source": [
    "# Lab03\n",
    "Sreyrath Poeun\n",
    "2/24/2023"
   ]
  },
  {
   "cell_type": "code",
   "execution_count": null,
   "metadata": {},
   "outputs": [],
   "source": [
    "#Set-up\n",
    "import numpy as np\n",
    "import pandas as pd\n",
    "import datetime as dt\n",
    "import matplotlib.pyplot as plt\n",
    "from matplotlib import style\n",
    "from matplotlib.ticker import StrMethodFormatter"
   ]
  },
  {
   "attachments": {},
   "cell_type": "markdown",
   "metadata": {},
   "source": [
    "Part 3"
   ]
  },
  {
   "cell_type": "code",
   "execution_count": null,
   "metadata": {},
   "outputs": [],
   "source": [
    "# Read in some eod prices\n",
    "kc=pd.read_csv(\"https://raw.githubusercontent.com/aaiken1/fin-data-analysis-python/main/data/kc_house_data.csv\"\n",
    "                ,index_col=0, parse_dates=True)\n",
    "#get rid of extra variables in \"date\"\n",
    "kc['date'] = kc['date'].str.replace('T000000','')\n",
    "kc['date'] = pd.to_datetime(kc['date'], format='%Y-%m-%d')\n",
    "kc.head()"
   ]
  },
  {
   "cell_type": "code",
   "execution_count": null,
   "metadata": {},
   "outputs": [],
   "source": [
    "kc.columns"
   ]
  },
  {
   "attachments": {},
   "cell_type": "markdown",
   "metadata": {},
   "source": [
    "Part 4"
   ]
  },
  {
   "cell_type": "code",
   "execution_count": null,
   "metadata": {},
   "outputs": [],
   "source": [
    "kc_subset=kc.loc[:,['date','price', 'sqft_living', 'sqft_lot', 'yr_built','bedrooms','waterfront']]"
   ]
  },
  {
   "cell_type": "code",
   "execution_count": null,
   "metadata": {},
   "outputs": [],
   "source": [
    "kc_subset['prc_sqr_ft']=kc.price/kc.sqft_living"
   ]
  },
  {
   "cell_type": "code",
   "execution_count": null,
   "metadata": {},
   "outputs": [],
   "source": [
    "kc_subset.head()"
   ]
  },
  {
   "cell_type": "code",
   "execution_count": null,
   "metadata": {},
   "outputs": [],
   "source": [
    "#Show the ten least expensive homes sold in this data set on a price per square foot basis.\n",
    "kc_subset.sort_values(by = 'prc_sqr_ft', ascending = True).head(10)"
   ]
  },
  {
   "cell_type": "code",
   "execution_count": null,
   "metadata": {},
   "outputs": [],
   "source": [
    "#Print the min price.\n",
    "kc_subset.price.min()"
   ]
  },
  {
   "cell_type": "code",
   "execution_count": null,
   "metadata": {},
   "outputs": [],
   "source": [
    "#Print the max price.\n",
    "kc_subset.price.max()"
   ]
  },
  {
   "attachments": {},
   "cell_type": "markdown",
   "metadata": {},
   "source": [
    "Part 5"
   ]
  },
  {
   "cell_type": "code",
   "execution_count": null,
   "metadata": {},
   "outputs": [],
   "source": [
    "kc.plot.hist(y='price',range = (0, 8000000),bins=100, edgecolor='black',style = 'seaborn-white')"
   ]
  },
  {
   "attachments": {},
   "cell_type": "markdown",
   "metadata": {},
   "source": [
    "Part 6"
   ]
  },
  {
   "cell_type": "code",
   "execution_count": null,
   "metadata": {},
   "outputs": [],
   "source": [
    "kc_subset[kc_subset['price'] < 1000000].plot.hist(y='price',range = (0, 1500000),bins=100, edgecolor='black',style = 'seaborn-white')"
   ]
  },
  {
   "cell_type": "code",
   "execution_count": null,
   "metadata": {},
   "outputs": [],
   "source": [
    "#Graph adjustment using plt\n",
    "kc.plot.hist(y='price',range = (0, 2000000),bins=100, edgecolor='black',style = 'seaborn-white')\n",
    "plt.ticklabel_format(axis='x', style='plain')\n",
    "plt.tick_params(axis='x', rotation=25)\n",
    "plt.gca().xaxis.set_major_formatter(StrMethodFormatter('${x:,.0f}')); # Add dollar sign and commas using StrMethodFormatter from matplotlib"
   ]
  },
  {
   "attachments": {},
   "cell_type": "markdown",
   "metadata": {},
   "source": [
    "Part 7"
   ]
  },
  {
   "cell_type": "code",
   "execution_count": null,
   "metadata": {},
   "outputs": [],
   "source": [
    "fig, ax = plt.subplots(figsize=(10, 6))\n",
    "\n",
    "ax.hist(kc_subset['price'],range = (0, 2000000),bins=100, edgecolor='black')\n",
    "\n",
    "ax.set_xlabel('Price')\n",
    "ax.set_ylabel('Frequency')\n",
    "ax.set_title('House_Prices_Count', fontsize = 15)\n",
    "ax.ticklabel_format(axis='x', style='plain')\n",
    "ax.tick_params(axis='x', rotation=45)\n",
    "ax.tick_params(axis='y', rotation=45)\n",
    "ax.xaxis.set_major_formatter(StrMethodFormatter('{x:,.0f}'))\n",
    "ax.yaxis.set_major_formatter(StrMethodFormatter('${x:,.0f}'))"
   ]
  },
  {
   "attachments": {},
   "cell_type": "markdown",
   "metadata": {},
   "source": [
    "Part 8"
   ]
  },
  {
   "cell_type": "code",
   "execution_count": null,
   "metadata": {},
   "outputs": [],
   "source": [
    "#Large Houses\n",
    "kc_subset['large_house'] = np.where(kc_subset['sqft_living']>2500, 'yes', 'no')"
   ]
  },
  {
   "cell_type": "code",
   "execution_count": null,
   "metadata": {},
   "outputs": [],
   "source": [
    "kc_subset['large_house'] = kc_subset['large_house'].astype('category')"
   ]
  },
  {
   "cell_type": "code",
   "execution_count": null,
   "metadata": {},
   "outputs": [],
   "source": [
    "#Create a new variable sqft_living_100 that is the percentile rank of the sqft_living variable.\n",
    "kc_subset['sqft_living_100']=kc_subset['sqft_living'].rank(pct=True,method='min')"
   ]
  },
  {
   "cell_type": "code",
   "execution_count": null,
   "metadata": {},
   "outputs": [],
   "source": [
    "#check min and max\n",
    "kc_subset.sqft_living_100.agg([min,max])"
   ]
  },
  {
   "cell_type": "code",
   "execution_count": null,
   "metadata": {},
   "outputs": [],
   "source": [
    "# create a list of our conditions\n",
    "conditions = [\n",
    "    (kc_subset['sqft_living_100'] < 0.25),\n",
    "    (kc_subset['sqft_living_100'] >= 0.25) & (kc_subset['sqft_living_100'] < 0.5),\n",
    "    (kc_subset['sqft_living_100'] >= 0.5) & (kc_subset['sqft_living_100'] < 0.75),\n",
    "    (kc_subset['sqft_living_100'] >= 0.75)\n",
    "    ]\n",
    "\n",
    "# create a list of the values we want to assign for each condition\n",
    "values = ['q1', 'q2', 'q3', 'q4']\n",
    "\n",
    "# create a new column and use np.select to assign values to it using our lists as arguments\n",
    "kc_subset['large_house_4'] = np.select(conditions, values)"
   ]
  },
  {
   "cell_type": "code",
   "execution_count": null,
   "metadata": {},
   "outputs": [],
   "source": [
    "kc_subset.large_house_4.head()"
   ]
  },
  {
   "cell_type": "code",
   "execution_count": null,
   "metadata": {},
   "outputs": [],
   "source": [
    "#make waterfront a categorical variable\n",
    "kc_subset['waterfront'] = kc_subset['waterfront'].astype('category')\n",
    "kc_subset.info()"
   ]
  },
  {
   "attachments": {},
   "cell_type": "markdown",
   "metadata": {},
   "source": [
    "Part 9"
   ]
  },
  {
   "cell_type": "code",
   "execution_count": null,
   "metadata": {},
   "outputs": [],
   "source": [
    "#Use the fig and axes method\n",
    "#make a scatter plot where you have price on the y and sqft_living on the x\n",
    "# Plot\n",
    "fig, ax = plt.subplots()\n",
    "\n",
    "scatter=ax.scatter(kc_subset.sqft_living, kc_subset.price,c=kc_subset['waterfront'], cmap='Blues',\n",
    "                   alpha=.5)\n",
    "\n",
    "ax.set(title=\"Price vs Sqft_Living\",\n",
    "       ylabel='Price',\n",
    "       xlabel=\"Sqft_Living\")\n",
    "\n",
    "legend = ax.legend(*scatter.legend_elements(),\n",
    "                    loc=\"lower right\", title=\"Waterfront\")\n",
    "ax.add_artist(legend);"
   ]
  },
  {
   "cell_type": "code",
   "execution_count": null,
   "metadata": {},
   "outputs": [],
   "source": [
    "kc_subset.columns"
   ]
  },
  {
   "cell_type": "code",
   "execution_count": null,
   "metadata": {},
   "outputs": [],
   "source": [
    "fig, axs = plt.subplots(2, 1, sharex=True, sharey=False, figsize=(10, 6))\n",
    "no_water=kc_subset[kc_subset.waterfront==0]\n",
    "water=kc_subset[kc_subset.waterfront==1]\n",
    "\n",
    "axs[0].hist(no_water['prc_sqr_ft'], bins=50, color='k', alpha=.5,edgecolor='black')\n",
    "axs[1].hist(water['prc_sqr_ft'], bins=50, color='k', alpha=.5,edgecolor='black')\n",
    "\n",
    "axs[0].set_title('Waterfront vs Prc_Sqr_Ft')\n",
    "axs[0].title.set_size(20)\n",
    "axs[1].set_xlabel(xlabel=\"Prc_Sqr_Ft\")"
   ]
  },
  {
   "cell_type": "code",
   "execution_count": null,
   "metadata": {},
   "outputs": [],
   "source": []
  },
  {
   "cell_type": "code",
   "execution_count": null,
   "metadata": {},
   "outputs": [],
   "source": []
  },
  {
   "cell_type": "code",
   "execution_count": null,
   "metadata": {},
   "outputs": [],
   "source": []
  }
 ],
 "metadata": {
  "kernelspec": {
   "display_name": "Python 3",
   "language": "python",
   "name": "python3"
  },
  "language_info": {
   "codemirror_mode": {
    "name": "ipython",
    "version": 3
   },
   "file_extension": ".py",
   "mimetype": "text/x-python",
   "name": "python",
   "nbconvert_exporter": "python",
   "pygments_lexer": "ipython3",
   "version": "3.9.7"
  },
  "orig_nbformat": 4,
  "vscode": {
   "interpreter": {
    "hash": "f12a8e03ec00c368f348b05ea452528c1d8063d5c7985acc158bd197fd1c7bb1"
   }
  }
 },
 "nbformat": 4,
 "nbformat_minor": 2
}
