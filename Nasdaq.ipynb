{
 "cells": [
  {
   "cell_type": "code",
   "execution_count": 6,
   "metadata": {},
   "outputs": [
    {
     "name": "stdout",
     "output_type": "stream",
     "text": [
      "Requirement already satisfied: nasdaq-data-link in c:\\users\\spoeun\\anaconda3\\lib\\site-packages (1.0.4)\n",
      "Requirement already satisfied: python-dateutil in c:\\users\\spoeun\\anaconda3\\lib\\site-packages (from nasdaq-data-link) (2.8.2)\n",
      "Requirement already satisfied: requests>=2.7.0 in c:\\users\\spoeun\\anaconda3\\lib\\site-packages (from nasdaq-data-link) (2.26.0)\n",
      "Requirement already satisfied: pandas>=0.14 in c:\\users\\spoeun\\anaconda3\\lib\\site-packages (from nasdaq-data-link) (1.5.3)\n",
      "Requirement already satisfied: more-itertools in c:\\users\\spoeun\\anaconda3\\lib\\site-packages (from nasdaq-data-link) (8.10.0)\n",
      "Requirement already satisfied: inflection>=0.3.1 in c:\\users\\spoeun\\anaconda3\\lib\\site-packages (from nasdaq-data-link) (0.5.1)\n",
      "Requirement already satisfied: numpy>=1.8 in c:\\users\\spoeun\\anaconda3\\lib\\site-packages (from nasdaq-data-link) (1.22.4)\n",
      "Requirement already satisfied: six in c:\\users\\spoeun\\anaconda3\\lib\\site-packages (from nasdaq-data-link) (1.16.0)\n",
      "Requirement already satisfied: pytz>=2020.1 in c:\\users\\spoeun\\anaconda3\\lib\\site-packages (from pandas>=0.14->nasdaq-data-link) (2021.3)\n",
      "Requirement already satisfied: urllib3<1.27,>=1.21.1 in c:\\users\\spoeun\\anaconda3\\lib\\site-packages (from requests>=2.7.0->nasdaq-data-link) (1.26.7)\n",
      "Requirement already satisfied: certifi>=2017.4.17 in c:\\users\\spoeun\\anaconda3\\lib\\site-packages (from requests>=2.7.0->nasdaq-data-link) (2021.10.8)\n",
      "Requirement already satisfied: charset-normalizer~=2.0.0 in c:\\users\\spoeun\\anaconda3\\lib\\site-packages (from requests>=2.7.0->nasdaq-data-link) (2.0.4)\n",
      "Requirement already satisfied: idna<4,>=2.5 in c:\\users\\spoeun\\anaconda3\\lib\\site-packages (from requests>=2.7.0->nasdaq-data-link) (3.2)\n"
     ]
    }
   ],
   "source": [
    "#get nasdaq data after creating a nasdaq account\n",
    "!pip install nasdaq-data-link"
   ]
  },
  {
   "cell_type": "code",
   "execution_count": 7,
   "metadata": {},
   "outputs": [
    {
     "name": "stdout",
     "output_type": "stream",
     "text": [
      "Requirement already satisfied: pandas-datareader in c:\\users\\spoeun\\anaconda3\\lib\\site-packages (0.10.0)\n",
      "Requirement already satisfied: pandas>=0.23 in c:\\users\\spoeun\\anaconda3\\lib\\site-packages (from pandas-datareader) (1.5.3)\n",
      "Requirement already satisfied: lxml in c:\\users\\spoeun\\anaconda3\\lib\\site-packages (from pandas-datareader) (4.6.3)\n",
      "Requirement already satisfied: requests>=2.19.0 in c:\\users\\spoeun\\anaconda3\\lib\\site-packages (from pandas-datareader) (2.26.0)\n",
      "Requirement already satisfied: numpy>=1.20.3 in c:\\users\\spoeun\\anaconda3\\lib\\site-packages (from pandas>=0.23->pandas-datareader) (1.22.4)\n",
      "Requirement already satisfied: python-dateutil>=2.8.1 in c:\\users\\spoeun\\anaconda3\\lib\\site-packages (from pandas>=0.23->pandas-datareader) (2.8.2)\n",
      "Requirement already satisfied: pytz>=2020.1 in c:\\users\\spoeun\\anaconda3\\lib\\site-packages (from pandas>=0.23->pandas-datareader) (2021.3)\n",
      "Requirement already satisfied: six>=1.5 in c:\\users\\spoeun\\anaconda3\\lib\\site-packages (from python-dateutil>=2.8.1->pandas>=0.23->pandas-datareader) (1.16.0)\n",
      "Requirement already satisfied: idna<4,>=2.5 in c:\\users\\spoeun\\anaconda3\\lib\\site-packages (from requests>=2.19.0->pandas-datareader) (3.2)\n",
      "Requirement already satisfied: urllib3<1.27,>=1.21.1 in c:\\users\\spoeun\\anaconda3\\lib\\site-packages (from requests>=2.19.0->pandas-datareader) (1.26.7)\n",
      "Requirement already satisfied: certifi>=2017.4.17 in c:\\users\\spoeun\\anaconda3\\lib\\site-packages (from requests>=2.19.0->pandas-datareader) (2021.10.8)\n",
      "Requirement already satisfied: charset-normalizer~=2.0.0 in c:\\users\\spoeun\\anaconda3\\lib\\site-packages (from requests>=2.19.0->pandas-datareader) (2.0.4)\n",
      "Note: you may need to restart the kernel to use updated packages.\n"
     ]
    }
   ],
   "source": [
    "pip install pandas-datareader"
   ]
  },
  {
   "cell_type": "code",
   "execution_count": 8,
   "metadata": {},
   "outputs": [],
   "source": [
    "# Set-up\n",
    "\n",
    "import nasdaqdatalink as ndl# You could also do something like: import nasdaqdatalink as ndl\n",
    "import pandas_datareader as pdr\n",
    "\n",
    "import numpy as np\n",
    "import pandas as pd\n",
    "import datetime as dt\n",
    "\n",
    "import matplotlib as mpl \n",
    "\n",
    "import matplotlib.pyplot as plt\n",
    "\n",
    "# nasdaqdatalink.ApiConfig.api_key = 'YOUR_KEY_HERE'\n",
    "\n",
    "nasdaqdatalink.read_key()\n",
    "\n",
    "#nasdaqdatalink.read_key(filepath=\"/data/.corporatenasdaqdatalinkapikey\")\n",
    "#print(nasdaqdatalink.ApiConfig.api_key)"
   ]
  },
  {
   "cell_type": "code",
   "execution_count": 9,
   "metadata": {},
   "outputs": [],
   "source": [
    "mydata=nasdaqdatalink.get('FRED/GDP')"
   ]
  },
  {
   "cell_type": "code",
   "execution_count": 10,
   "metadata": {},
   "outputs": [
    {
     "data": {
      "text/html": [
       "<div>\n",
       "<style scoped>\n",
       "    .dataframe tbody tr th:only-of-type {\n",
       "        vertical-align: middle;\n",
       "    }\n",
       "\n",
       "    .dataframe tbody tr th {\n",
       "        vertical-align: top;\n",
       "    }\n",
       "\n",
       "    .dataframe thead th {\n",
       "        text-align: right;\n",
       "    }\n",
       "</style>\n",
       "<table border=\"1\" class=\"dataframe\">\n",
       "  <thead>\n",
       "    <tr style=\"text-align: right;\">\n",
       "      <th></th>\n",
       "      <th>Value</th>\n",
       "    </tr>\n",
       "    <tr>\n",
       "      <th>Date</th>\n",
       "      <th></th>\n",
       "    </tr>\n",
       "  </thead>\n",
       "  <tbody>\n",
       "    <tr>\n",
       "      <th>1947-01-01</th>\n",
       "      <td>243.164</td>\n",
       "    </tr>\n",
       "    <tr>\n",
       "      <th>1947-04-01</th>\n",
       "      <td>245.968</td>\n",
       "    </tr>\n",
       "    <tr>\n",
       "      <th>1947-07-01</th>\n",
       "      <td>249.585</td>\n",
       "    </tr>\n",
       "    <tr>\n",
       "      <th>1947-10-01</th>\n",
       "      <td>259.745</td>\n",
       "    </tr>\n",
       "    <tr>\n",
       "      <th>1948-01-01</th>\n",
       "      <td>265.742</td>\n",
       "    </tr>\n",
       "    <tr>\n",
       "      <th>...</th>\n",
       "      <td>...</td>\n",
       "    </tr>\n",
       "    <tr>\n",
       "      <th>2020-10-01</th>\n",
       "      <td>21477.597</td>\n",
       "    </tr>\n",
       "    <tr>\n",
       "      <th>2021-01-01</th>\n",
       "      <td>22038.226</td>\n",
       "    </tr>\n",
       "    <tr>\n",
       "      <th>2021-04-01</th>\n",
       "      <td>22740.959</td>\n",
       "    </tr>\n",
       "    <tr>\n",
       "      <th>2021-07-01</th>\n",
       "      <td>23202.344</td>\n",
       "    </tr>\n",
       "    <tr>\n",
       "      <th>2021-10-01</th>\n",
       "      <td>23992.355</td>\n",
       "    </tr>\n",
       "  </tbody>\n",
       "</table>\n",
       "<p>300 rows × 1 columns</p>\n",
       "</div>"
      ],
      "text/plain": [
       "                Value\n",
       "Date                 \n",
       "1947-01-01    243.164\n",
       "1947-04-01    245.968\n",
       "1947-07-01    249.585\n",
       "1947-10-01    259.745\n",
       "1948-01-01    265.742\n",
       "...               ...\n",
       "2020-10-01  21477.597\n",
       "2021-01-01  22038.226\n",
       "2021-04-01  22740.959\n",
       "2021-07-01  23202.344\n",
       "2021-10-01  23992.355\n",
       "\n",
       "[300 rows x 1 columns]"
      ]
     },
     "execution_count": 10,
     "metadata": {},
     "output_type": "execute_result"
    }
   ],
   "source": [
    "mydata"
   ]
  },
  {
   "cell_type": "code",
   "execution_count": 11,
   "metadata": {},
   "outputs": [
    {
     "data": {
      "text/html": [
       "<div>\n",
       "<style scoped>\n",
       "    .dataframe tbody tr th:only-of-type {\n",
       "        vertical-align: middle;\n",
       "    }\n",
       "\n",
       "    .dataframe tbody tr th {\n",
       "        vertical-align: top;\n",
       "    }\n",
       "\n",
       "    .dataframe thead th {\n",
       "        text-align: right;\n",
       "    }\n",
       "</style>\n",
       "<table border=\"1\" class=\"dataframe\">\n",
       "  <thead>\n",
       "    <tr style=\"text-align: right;\">\n",
       "      <th></th>\n",
       "      <th>Value</th>\n",
       "    </tr>\n",
       "    <tr>\n",
       "      <th>Date</th>\n",
       "      <th></th>\n",
       "    </tr>\n",
       "  </thead>\n",
       "  <tbody>\n",
       "    <tr>\n",
       "      <th>2023-03-16</th>\n",
       "      <td>24376.39</td>\n",
       "    </tr>\n",
       "    <tr>\n",
       "      <th>2023-03-17</th>\n",
       "      <td>25053.64</td>\n",
       "    </tr>\n",
       "    <tr>\n",
       "      <th>2023-03-18</th>\n",
       "      <td>27462.77</td>\n",
       "    </tr>\n",
       "    <tr>\n",
       "      <th>2023-03-19</th>\n",
       "      <td>26975.39</td>\n",
       "    </tr>\n",
       "    <tr>\n",
       "      <th>2023-03-20</th>\n",
       "      <td>28045.84</td>\n",
       "    </tr>\n",
       "  </tbody>\n",
       "</table>\n",
       "</div>"
      ],
      "text/plain": [
       "               Value\n",
       "Date                \n",
       "2023-03-16  24376.39\n",
       "2023-03-17  25053.64\n",
       "2023-03-18  27462.77\n",
       "2023-03-19  26975.39\n",
       "2023-03-20  28045.84"
      ]
     },
     "execution_count": 11,
     "metadata": {},
     "output_type": "execute_result"
    }
   ],
   "source": [
    "btc = nasdaqdatalink.get('BCHAIN/MKPRU')\n",
    "btc.tail()"
   ]
  },
  {
   "cell_type": "code",
   "execution_count": 12,
   "metadata": {},
   "outputs": [],
   "source": [
    "btc['ret'] = btc.pct_change().dropna()"
   ]
  },
  {
   "cell_type": "code",
   "execution_count": 13,
   "metadata": {},
   "outputs": [
    {
     "data": {
      "text/plain": [
       "<AxesSubplot:xlabel='Date'>"
      ]
     },
     "execution_count": 13,
     "metadata": {},
     "output_type": "execute_result"
    },
    {
     "data": {
      "image/png": "[encoded data removed]",
      "text/plain": [
       "<Figure size 432x288 with 1 Axes>"
      ]
     },
     "metadata": {
      "needs_background": "light"
     },
     "output_type": "display_data"
    }
   ],
   "source": [
    "btc = btc.loc['2015-01-01':,['Value', 'ret']]\n",
    "btc.plot()"
   ]
  },
  {
   "cell_type": "code",
   "execution_count": 14,
   "metadata": {},
   "outputs": [
    {
     "name": "stdout",
     "output_type": "stream",
     "text": [
      "Average return: 0.23%\n"
     ]
    }
   ],
   "source": [
    "print(f'Average return: {100 * btc.ret.mean():.2f}%')"
   ]
  },
  {
   "cell_type": "code",
   "execution_count": 15,
   "metadata": {},
   "outputs": [
    {
     "data": {
      "text/html": [
       "<div>\n",
       "<style scoped>\n",
       "    .dataframe tbody tr th:only-of-type {\n",
       "        vertical-align: middle;\n",
       "    }\n",
       "\n",
       "    .dataframe tbody tr th {\n",
       "        vertical-align: top;\n",
       "    }\n",
       "\n",
       "    .dataframe thead th {\n",
       "        text-align: right;\n",
       "    }\n",
       "</style>\n",
       "<table border=\"1\" class=\"dataframe\">\n",
       "  <thead>\n",
       "    <tr style=\"text-align: right;\">\n",
       "      <th></th>\n",
       "      <th>Value</th>\n",
       "      <th>ret</th>\n",
       "      <th>ret_g</th>\n",
       "      <th>ret_c</th>\n",
       "    </tr>\n",
       "    <tr>\n",
       "      <th>Date</th>\n",
       "      <th></th>\n",
       "      <th></th>\n",
       "      <th></th>\n",
       "      <th></th>\n",
       "    </tr>\n",
       "  </thead>\n",
       "  <tbody>\n",
       "    <tr>\n",
       "      <th>2015-01-01</th>\n",
       "      <td>316.15</td>\n",
       "      <td>0.001425</td>\n",
       "      <td>1.001425</td>\n",
       "      <td>0.001425</td>\n",
       "    </tr>\n",
       "    <tr>\n",
       "      <th>2015-01-02</th>\n",
       "      <td>314.81</td>\n",
       "      <td>-0.004238</td>\n",
       "      <td>0.995762</td>\n",
       "      <td>-0.002819</td>\n",
       "    </tr>\n",
       "    <tr>\n",
       "      <th>2015-01-03</th>\n",
       "      <td>270.93</td>\n",
       "      <td>-0.139386</td>\n",
       "      <td>0.860614</td>\n",
       "      <td>-0.141812</td>\n",
       "    </tr>\n",
       "    <tr>\n",
       "      <th>2015-01-04</th>\n",
       "      <td>276.80</td>\n",
       "      <td>0.021666</td>\n",
       "      <td>1.021666</td>\n",
       "      <td>-0.123218</td>\n",
       "    </tr>\n",
       "    <tr>\n",
       "      <th>2015-01-05</th>\n",
       "      <td>263.17</td>\n",
       "      <td>-0.049241</td>\n",
       "      <td>0.950759</td>\n",
       "      <td>-0.166392</td>\n",
       "    </tr>\n",
       "    <tr>\n",
       "      <th>...</th>\n",
       "      <td>...</td>\n",
       "      <td>...</td>\n",
       "      <td>...</td>\n",
       "      <td>...</td>\n",
       "    </tr>\n",
       "    <tr>\n",
       "      <th>2023-03-16</th>\n",
       "      <td>24376.39</td>\n",
       "      <td>-0.015790</td>\n",
       "      <td>0.984210</td>\n",
       "      <td>76.213779</td>\n",
       "    </tr>\n",
       "    <tr>\n",
       "      <th>2023-03-17</th>\n",
       "      <td>25053.64</td>\n",
       "      <td>0.027783</td>\n",
       "      <td>1.027783</td>\n",
       "      <td>78.359012</td>\n",
       "    </tr>\n",
       "    <tr>\n",
       "      <th>2023-03-18</th>\n",
       "      <td>27462.77</td>\n",
       "      <td>0.096159</td>\n",
       "      <td>1.096159</td>\n",
       "      <td>85.990086</td>\n",
       "    </tr>\n",
       "    <tr>\n",
       "      <th>2023-03-19</th>\n",
       "      <td>26975.39</td>\n",
       "      <td>-0.017747</td>\n",
       "      <td>0.982253</td>\n",
       "      <td>84.446278</td>\n",
       "    </tr>\n",
       "    <tr>\n",
       "      <th>2023-03-20</th>\n",
       "      <td>28045.84</td>\n",
       "      <td>0.039682</td>\n",
       "      <td>1.039682</td>\n",
       "      <td>87.836997</td>\n",
       "    </tr>\n",
       "  </tbody>\n",
       "</table>\n",
       "<p>3001 rows × 4 columns</p>\n",
       "</div>"
      ],
      "text/plain": [
       "               Value       ret     ret_g      ret_c\n",
       "Date                                               \n",
       "2015-01-01    316.15  0.001425  1.001425   0.001425\n",
       "2015-01-02    314.81 -0.004238  0.995762  -0.002819\n",
       "2015-01-03    270.93 -0.139386  0.860614  -0.141812\n",
       "2015-01-04    276.80  0.021666  1.021666  -0.123218\n",
       "2015-01-05    263.17 -0.049241  0.950759  -0.166392\n",
       "...              ...       ...       ...        ...\n",
       "2023-03-16  24376.39 -0.015790  0.984210  76.213779\n",
       "2023-03-17  25053.64  0.027783  1.027783  78.359012\n",
       "2023-03-18  27462.77  0.096159  1.096159  85.990086\n",
       "2023-03-19  26975.39 -0.017747  0.982253  84.446278\n",
       "2023-03-20  28045.84  0.039682  1.039682  87.836997\n",
       "\n",
       "[3001 rows x 4 columns]"
      ]
     },
     "execution_count": 15,
     "metadata": {},
     "output_type": "execute_result"
    }
   ],
   "source": [
    "btc['ret_g'] = btc.ret.add(1) # gross return\n",
    "btc['ret_c'] = btc.ret_g.cumprod().sub(1)    # cummulative return\n",
    "btc"
   ]
  },
  {
   "cell_type": "code",
   "execution_count": 16,
   "metadata": {},
   "outputs": [
    {
     "data": {
      "image/png": "[encoded data removed]",
      "text/plain": [
       "<Figure size 720x432 with 2 Axes>"
      ]
     },
     "metadata": {
      "needs_background": "light"
     },
     "output_type": "display_data"
    }
   ],
   "source": [
    "fig, axs = plt.subplots(2, 1, sharex=True, sharey=False, figsize=(10, 6))\n",
    "\n",
    "axs[0].plot(btc.ret_c, 'g', label = 'BTC Cumulative Return')\n",
    "axs[1].plot(btc.ret, 'b', label = 'BTC Daily Return')\n",
    "            \n",
    "axs[0].set_title('BTC Cumulative Returns')\n",
    "axs[1].set_title('BTC Daily Returns')\n",
    "\n",
    "axs[0].legend()\n",
    "axs[1].legend();"
   ]
  },
  {
   "cell_type": "code",
   "execution_count": null,
   "metadata": {},
   "outputs": [],
   "source": []
  },
  {
   "cell_type": "code",
   "execution_count": null,
   "metadata": {},
   "outputs": [],
   "source": []
  }
 ],
 "metadata": {
  "kernelspec": {
   "display_name": "Python 3",
   "language": "python",
   "name": "python3"
  },
  "language_info": {
   "codemirror_mode": {
    "name": "ipython",
    "version": 3
   },
   "file_extension": ".py",
   "mimetype": "text/x-python",
   "name": "python",
   "nbconvert_exporter": "python",
   "pygments_lexer": "ipython3",
   "version": "3.9.7"
  },
  "orig_nbformat": 4
 },
 "nbformat": 4,
 "nbformat_minor": 2
}
